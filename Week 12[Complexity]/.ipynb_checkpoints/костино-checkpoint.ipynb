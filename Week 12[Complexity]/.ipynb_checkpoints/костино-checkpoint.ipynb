{
 "cells": [
  {
   "cell_type": "markdown",
   "metadata": {},
   "source": [
    "$$ \\min\\limits_{x \\in Q} \\frac{1}{2} x^T x + c^Tx$$\n",
    "$$ s.t. Ax \\preccurlyeq b $$\n",
    "$$x \\in \\mathbb R^n $$\n",
    "$$b \\in \\mathbb R^m $$"
   ]
  },
  {
   "cell_type": "markdown",
   "metadata": {},
   "source": [
    "Заменим ограничение типа неравенство на логарифмический барьер\n",
    "\n",
    "$$ \\psi (x) = - \\sum_{i=1}^m log(b_i -a_i^T x) $$\n",
    "\n",
    "где $ a_i $ - строки матрицы $ A$"
   ]
  },
  {
   "cell_type": "markdown",
   "metadata": {},
   "source": [
    "Тогда наша задача примет вид\n",
    "\n",
    "$$ \\min\\limits_{x \\in Q} t(\\frac{1}{2} x^T x + c^Tx) - \\sum_{i=1}^m log(b_i -a_i^T x)$$\n",
    "\n",
    "где "
   ]
  },
  {
   "cell_type": "markdown",
   "metadata": {},
   "source": [
    "Градиент и гессиан логарифмического барьера будут\n",
    "$$\\nabla \\psi (x) = \\sum_{i=1}^m \\frac{1}{b_i -a_i^T x} a_i$$\n",
    "$$\\nabla^2 \\psi (x) = \\sum_{i=1}^m \\frac{1}{(b_i -a_i^T x)^2} a_i a_i^T$$\n"
   ]
  },
  {
   "cell_type": "markdown",
   "metadata": {},
   "source": [
    "Или сокращенно\n",
    "\n",
    "$$\\nabla \\psi (x) = A^T d $$\n",
    "$$\\nabla^2 \\psi (x) = A^T diag(d)^2 A$$\n",
    "\n",
    "где \n",
    "\n",
    "$$ d_i = \\frac{1}{b_i -a_i^T x} $$\n",
    "$ diag$ - диагональная матрица \n"
   ]
  },
  {
   "cell_type": "markdown",
   "metadata": {},
   "source": [
    "Тогда градиент и гессиан всей функции можно выразить \n",
    "\n",
    "$$\\nabla f(x) = t(x + c) + A^T d $$\n",
    "$$\\nabla^2 f (x) = tI + A^T diag(d)^2 A$$\n"
   ]
  },
  {
   "cell_type": "markdown",
   "metadata": {},
   "source": [
    "Для одной итерации в методе Ньютона нам нужно решить систему уравнений:\n",
    "\n",
    "$$ (x_{k+1}- x_k)(\\nabla^2 f(x_k)) =   -\\nabla f(x_k) $$\n",
    "\n",
    "$$(x_{k+1}- x_k)(tI + A^T diag(d)^2 A) = t c + A^T d$$\n",
    "\n",
    "\n"
   ]
  },
  {
   "cell_type": "markdown",
   "metadata": {},
   "source": [
    "1. $m \\gg n$\n",
    "\n",
    "Самой трудоемкой операцией является вычисление этой матрицы $A^T diag(d)^2 A$ , но мы знаем что матрица $diag(d)^2$ диагональная $m \\times m$. Тогда сложность вычисления этого выражения $A^T diag(d)^2 A$ можно оценить как $O(mn^2)$. После этого нам надо решить систему из $n$ уравнений с $n$ неизвестными. Матрица в левой части положительноопределенная (тк это гессиан плюс единичная умноженная на положительную константу). Значит систему можно решать с использование разложения Холецкого.  Сложность решения системы $O(\\frac{1}{3}n^3)$. \n",
    "\n",
    "Тогда сложность одной итерации будет $O(mn^2)$"
   ]
  },
  {
   "cell_type": "markdown",
   "metadata": {},
   "source": [
    "2. $m \\ll n$\n",
    "\n",
    "Если воспользоваться рассуждениями из п.1 то мы получим сложность $O(\\frac{1}{3}n^3)$. Это слишком много при большом $n$. \n",
    "\n"
   ]
  },
  {
   "cell_type": "markdown",
   "metadata": {},
   "source": [
    "Представим нашу систему в следующем виде:\n",
    "\n",
    "$ \\left [ \\begin{matrix} tI & A^T \\\\  A& -diag(d)^{-2} \\end{matrix}\\right]  \\left [ \\begin{matrix} \\Delta x\\\\  \\nu \\end{matrix}\\right] = \\left [ \\begin{matrix} -tc - A^T d\\\\  0 \\end{matrix}\\right]$\n",
    "\n",
    "Избавимся от $\\Delta x$. Получим:\n",
    "\n",
    "$ (diag(d)^{-2} + \\frac{1}{t}A A^T) \\nu = -Ac - \\frac{1}{t}A A^T d $\n",
    "\n",
    "Самая трудоемкая операция вычисление этого произведения $A A^T d$. Ее сложность $O(nm^2)$\n",
    "Сложность решения этой системы $O(m^3)$. \n",
    "\n",
    "Значит сложность одной итерации $O(nm^2)$."
   ]
  }
 ],
 "metadata": {
  "kernelspec": {
   "display_name": "Python 3 (ipykernel)",
   "language": "python",
   "name": "python3"
  },
  "language_info": {
   "codemirror_mode": {
    "name": "ipython",
    "version": 3
   },
   "file_extension": ".py",
   "mimetype": "text/x-python",
   "name": "python",
   "nbconvert_exporter": "python",
   "pygments_lexer": "ipython3",
   "version": "3.11.3"
  }
 },
 "nbformat": 4,
 "nbformat_minor": 2
}
