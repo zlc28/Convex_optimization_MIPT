{
 "cells": [
  {
   "cell_type": "markdown",
   "id": "aba355ae",
   "metadata": {},
   "source": [
    "<p style=\"align: center;\"><img align=center\n",
    "src=\"https://s1.hostingkartinok.com/uploads/images/2023/10/7f4bd2cf9f4064572e4359de8f3ecfe5.jpg\" width=950 height=470</p>"
   ]
  },
  {
   "cell_type": "code",
   "execution_count": 1,
   "id": "f891b0e8",
   "metadata": {},
   "outputs": [],
   "source": [
    "import cvxpy as cvx\n",
    "import numpy as np"
   ]
  },
  {
   "cell_type": "code",
   "execution_count": 2,
   "id": "6cfc4b14",
   "metadata": {},
   "outputs": [],
   "source": [
    "def f(x):\n",
    "    return c@x\n",
    "\n",
    "# y1 = 4500  Виноград1\n",
    "# y2 = 4500  Виноград2\n",
    "# s = 80  Сахар\n",
    "# w = 225  Рабочая сила"
   ]
  },
  {
   "cell_type": "code",
   "execution_count": 3,
   "id": "1cb48476",
   "metadata": {},
   "outputs": [
    {
     "name": "stdout",
     "output_type": "stream",
     "text": [
      "optimal\n",
      "210000.00004177826\n",
      "[-2.23159501e-08  5.00000000e+01  7.50000000e+01]\n"
     ]
    }
   ],
   "source": [
    "c = np.array([1000, 1200, 2000])\n",
    "\n",
    "x = cvx.Variable(3)\n",
    "y1 = cvx.Variable(1)\n",
    "y2 = cvx.Variable(1)\n",
    "s = cvx.Variable(1)\n",
    "w = cvx.Variable(1)\n",
    "\n",
    "constraints = [np.array([30,60,0])@x<=4500, np.array([30,0,60])@x<=4500,\n",
    "               np.array([2,1,0])@x<=80, np.array([2,3,1])@x <= 225,\n",
    "               x[0]>=0, x[1]>=0, x[2]>=0]\n",
    "\n",
    "obj = cvx.Maximize(f(x))\n",
    "prob = cvx.Problem(obj, constraints)\n",
    "prob.solve()\n",
    "\n",
    "print(prob.status) \n",
    "print(prob.value) \n",
    "print(x.value) "
   ]
  }
 ],
 "metadata": {
  "kernelspec": {
   "display_name": "Python 3 (ipykernel)",
   "language": "python",
   "name": "python3"
  },
  "language_info": {
   "codemirror_mode": {
    "name": "ipython",
    "version": 3
   },
   "file_extension": ".py",
   "mimetype": "text/x-python",
   "name": "python",
   "nbconvert_exporter": "python",
   "pygments_lexer": "ipython3",
   "version": "3.11.3"
  }
 },
 "nbformat": 4,
 "nbformat_minor": 5
}
