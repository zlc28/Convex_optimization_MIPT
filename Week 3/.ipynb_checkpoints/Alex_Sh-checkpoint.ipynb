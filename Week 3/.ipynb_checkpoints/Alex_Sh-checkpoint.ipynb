{
 "cells": [
  {
   "cell_type": "markdown",
   "id": "e39f427b",
   "metadata": {
    "pycharm": {
     "name": "#%% md\n"
    }
   },
   "source": [
    "## Решите задачу из прошлой недели методом тяжёлого шарика и ускоренным градиентным методом.\n",
    "\n",
    "Рассмотрим следующую задачу\n",
    "\n",
    "$$ \\min_x \\|x - y \\|_2^2 + \\lambda \\sum_{i=0}^{n-1} \\left(\\sqrt{\\varepsilon^2 + (x_{i+1} - x_i)^2} - \\varepsilon\\right),$$\n",
    "\n",
    "где $y$ данный вектор, $\\lambda >0 $ и $\\varepsilon > 0$ заданные числа. \n",
    "\n",
    "1. Сравните сходимость этих методов и градиентного спуска.\n",
    "2. Нарисуйте один график с тремя линиями, который показывал бы такое сравнение.\n",
    "3. Прокомментируйте результат.\n",
    "4. Проаналищируйте влияние параметров методов на их сходимость."
   ]
  },
  {
   "cell_type": "code",
   "execution_count": 70,
   "id": "37322ea8",
   "metadata": {
    "pycharm": {
     "name": "#%%\n"
    }
   },
   "outputs": [],
   "source": [
    "import numpy as np\n",
    "import matplotlib.pyplot as plt\n",
    "import jax\n",
    "import jax.numpy as jnp\n",
    "from jax.config import config\n",
    "import cvxpy as cvx\n",
    "config.update(\"jax_enable_x64\", True)\n"
   ]
  },
  {
   "cell_type": "code",
   "execution_count": 71,
   "id": "526052a6",
   "metadata": {
    "pycharm": {
     "name": "#%%\n"
    }
   },
   "outputs": [],
   "source": [
    "n = 5000\n",
    "EPSILON = 0.001\n",
    "LAMBDA = 50\n",
    "y = np.hstack([np.ones(1000) + 0.1 * np.random.randn(1000), 5 * np.ones(1000) + 0.1 *np.random.randn(1000),\n",
    "               -3*np.ones(1000) + 0.1 *np.random.randn(1000), -2 * np.ones(1000) + 0.1 *np.random.randn(1000),\n",
    "               3 * np.ones(1000) + 0.1 *np.random.randn(1000)])\n",
    "# plt.plot(y)"
   ]
  },
  {
   "cell_type": "code",
   "execution_count": 72,
   "id": "eab195fb",
   "metadata": {
    "pycharm": {
     "name": "#%%\n"
    }
   },
   "outputs": [],
   "source": [
    "x = cvx.Variable(n)\n",
    "eps = np.full(n-1, EPSILON)\n",
    "\n",
    "def f(x):\n",
    "    return cvx.square(cvx.norm((x-y), p=2)) + LAMBDA*(cvx.sum(cvx.norm(cvx.vstack((cvx.diff(x),eps)), p=2, axis=0) - EPSILON))"
   ]
  },
  {
   "cell_type": "code",
   "execution_count": 73,
   "id": "bb1c44ac",
   "metadata": {
    "pycharm": {
     "name": "#%%\n"
    }
   },
   "outputs": [],
   "source": [
    "@jax.jit\n",
    "def f(x):\n",
    "    return jnp.linalg.norm(x-y)**2 +  LAMBDA * jnp.sum(jnp.sqrt(EPSILON**2 + jnp.diff(x)**2) - EPSILON)\n",
    "\n",
    "grad_f = jax.jit(jax.grad(f))"
   ]
  },
  {
   "cell_type": "markdown",
   "id": "eb3a5473",
   "metadata": {
    "pycharm": {
     "name": "#%% md\n"
    }
   },
   "source": [
    "## Простой градиентный спуск"
   ]
  },
  {
   "cell_type": "code",
   "execution_count": 74,
   "id": "bb9f6962",
   "metadata": {
    "pycharm": {
     "name": "#%%\n"
    }
   },
   "outputs": [],
   "source": [
    "def gradient_descent(grad, x0, max_iter, tol, alpha):\n",
    "    x = x0.copy()\n",
    "    conv = [x0.copy()]\n",
    "    for i in range(max_iter):\n",
    "        g = grad(x)\n",
    "        if np.linalg.norm(g) < tol:\n",
    "            break\n",
    "        x = x - alpha * g\n",
    "        conv.append(x.copy())\n",
    "    return x, conv"
   ]
  },
  {
   "cell_type": "markdown",
   "id": "32337c04",
   "metadata": {
    "pycharm": {
     "name": "#%% md\n"
    }
   },
   "source": [
    "## Метод тяжёлого шарика"
   ]
  },
  {
   "cell_type": "code",
   "execution_count": 75,
   "id": "708d652a",
   "metadata": {
    "pycharm": {
     "name": "#%%\n"
    }
   },
   "outputs": [],
   "source": [
    "class HeavyBall:\n",
    "\n",
    "    def __init__(self, f, grad_f, x0, alpha, beta, max_iter=10000, tol=1e-3, verbose=True, **kwargs):\n",
    "        self._beta = beta\n",
    "        self._f = f\n",
    "        self._grad_f = grad_f\n",
    "        self._x0 = x0\n",
    "        self._alpha = alpha\n",
    "        self._max_iter = max_iter\n",
    "        self._tol = tol\n",
    "        self._verbose = verbose\n",
    "\n",
    "    def find_solve(self):\n",
    "        x = x0.copy()\n",
    "        conv = []\n",
    "        iter = 0\n",
    "        x_prev = None\n",
    "        while True:\n",
    "            iter += 1\n",
    "            current_grad = self._grad_f(x)\n",
    "\n",
    "            if np.linalg.norm(current_grad) < tol:\n",
    "                break\n",
    "\n",
    "            if x_prev is None:\n",
    "                x_next = x - self._alpha * self._grad_f(x)\n",
    "                x_prev = x.copy()\n",
    "                x = x_next.copy()\n",
    "                conv.append(x.copy())\n",
    "            else:\n",
    "                x_next = x + self._beta * (x - x_prev) - self._alpha * self._grad_f(x)\n",
    "                x_prev = x.copy()\n",
    "                x = x_next.copy()\n",
    "                conv.append(x.copy())\n",
    "\n",
    "            if iter >= max_iter:\n",
    "                break\n",
    "\n",
    "        if self._verbose:\n",
    "            self.summary(iter, x)\n",
    "        return x, conv\n",
    "\n",
    "    def summary(self, iterations, x):\n",
    "        print(\"HeavyBall:\")\n",
    "        print(\"Convergence in:\", iterations, \"iterations\")\n",
    "        print(\"Function value:\", self._f(x))\n",
    "        print(\"Norm of gradient:\", np.linalg.norm(self._grad_f(x)))\n",
    "\n",
    "\n"
   ]
  },
  {
   "cell_type": "markdown",
   "id": "b520dc22",
   "metadata": {
    "pycharm": {
     "name": "#%% md\n"
    }
   },
   "source": [
    "## Ускоренный градиентный метод Нестерова"
   ]
  },
  {
   "cell_type": "code",
   "execution_count": 76,
   "id": "38fd4ce1",
   "metadata": {
    "pycharm": {
     "name": "#%%\n"
    }
   },
   "outputs": [],
   "source": [
    "class AcceleratedGD:\n",
    "\n",
    "    def __init__(self, f, grad_f, x0, alpha, max_iter=10000, tol=1e-3, verbose=True, **kwargs):\n",
    "        self._f = f\n",
    "        self._grad_f = grad_f\n",
    "        self._beta = 1\n",
    "        self._x0 = x0\n",
    "        self._alpha = alpha\n",
    "        self._max_iter = max_iter\n",
    "        self._tol = tol\n",
    "        self._verbose = verbose\n",
    "        self._k = 1\n",
    "\n",
    "    def find_solve(self):\n",
    "        x = x0.copy()\n",
    "        conv = []\n",
    "        iter = 0\n",
    "        x_prev = None\n",
    "        while True:\n",
    "            iter += 1\n",
    "            current_grad = self._grad_f(x)\n",
    "\n",
    "            if np.linalg.norm(current_grad) < tol:\n",
    "                break\n",
    "\n",
    "            if x_prev is None:\n",
    "                x_next = x - self._alpha * self._grad_f(x)\n",
    "                x_prev = x.copy()\n",
    "                x = x_next.copy()\n",
    "                conv.append(x.copy())\n",
    "            else:\n",
    "                x_next = x + self._beta * (x - x_prev) - self._alpha * self._grad_f(x + self._beta * (x - x_prev))\n",
    "                x_prev = x.copy()\n",
    "                x = x_next.copy()\n",
    "\n",
    "                self._beta = self._k / (self._k + 8)\n",
    "                self._k += 1\n",
    "\n",
    "                conv.append(x.copy())\n",
    "\n",
    "            if iter >= max_iter:\n",
    "                break\n",
    "\n",
    "        if self._verbose:\n",
    "            self.summary(iter, x)\n",
    "        return x, conv\n",
    "\n",
    "    def summary(self, iterations, x):\n",
    "        print(\"Accelerated GD:\")\n",
    "        print(\"Convergence in:\", iterations, \"iterations\")\n",
    "        print(\"Function value:\", self._f(x))\n",
    "        print(\"Norm of gradient:\", np.linalg.norm(self._grad_f(x)))"
   ]
  },
  {
   "cell_type": "markdown",
   "id": "f2016147",
   "metadata": {
    "pycharm": {
     "name": "#%% md\n"
    }
   },
   "source": [
    "## Результаты"
   ]
  },
  {
   "cell_type": "code",
   "execution_count": 78,
   "id": "8eb9bf5a",
   "metadata": {
    "pycharm": {
     "name": "#%%\n"
    }
   },
   "outputs": [
    {
     "name": "stdout",
     "output_type": "stream",
     "text": [
      "HeavyBall:\n",
      "Convergence in: 10060 iterations\n",
      "Function value: 914.9997967791047\n",
      "Norm of gradient: 0.000999930024610627\n",
      "Accelerated GD:\n",
      "Convergence in: 9726 iterations\n",
      "Function value: 914.999796646522\n",
      "Norm of gradient: 0.0009200820237199288\n"
     ]
    },
    {
     "data": {
      "image/png": "[encoded data removed]",
      "text/plain": [
       "<Figure size 1000x800 with 1 Axes>"
      ]
     },
     "metadata": {},
     "output_type": "display_data"
    }
   ],
   "source": [
    "np.random.seed(42)\n",
    "alpha = 5.68e-6\n",
    "beta = 0.99\n",
    "x0 = np.random.randn(n)\n",
    "max_iter = 30000\n",
    "tol = 1e-3\n",
    "\n",
    "x_gd, conv_gd = gradient_descent(grad_f, x0, max_iter, tol, alpha)\n",
    "\n",
    "hb_method = HeavyBall(f, grad_f, x0, alpha, beta)\n",
    "x_gd_hb, conv_gd_hb = hb_method.find_solve()\n",
    "\n",
    "acc_method = AcceleratedGD(f, grad_f, x0, alpha)\n",
    "x_gd_acc, conv_gd_acc = acc_method.find_solve()\n",
    "\n",
    "plt.figure(figsize=(10, 8))\n",
    "plt.semilogy([jnp.linalg.norm(grad_f(x)) for x in conv_gd], label=r\"GD, $\\alpha = {}$\".format(alpha))\n",
    "plt.semilogy([jnp.linalg.norm(grad_f(x)) for x in conv_gd_hb], label=r\"HB, $\\beta = {}$\".format(beta))\n",
    "plt.semilogy([jnp.linalg.norm(grad_f(x)) for x in conv_gd_acc], label=r\"Acc, $\\alpha = {}$\".format(alpha))\n",
    "plt.legend(loc=\"best\")\n",
    "plt.xlabel(\"iterations, $k$\")\n",
    "plt.ylabel(\"f\")\n",
    "plt.xticks()\n",
    "_ = plt.yticks()"
   ]
  },
  {
   "cell_type": "code",
   "execution_count": null,
   "id": "9ecd3fe5",
   "metadata": {
    "pycharm": {
     "name": "#%%\n"
    }
   },
   "outputs": [],
   "source": []
  }
 ],
 "metadata": {
  "kernelspec": {
   "display_name": "Python 3 (ipykernel)",
   "language": "python",
   "name": "python3"
  },
  "language_info": {
   "codemirror_mode": {
    "name": "ipython",
    "version": 3
   },
   "file_extension": ".py",
   "mimetype": "text/x-python",
   "name": "python",
   "nbconvert_exporter": "python",
   "pygments_lexer": "ipython3",
   "version": "3.11.3"
  }
 },
 "nbformat": 4,
 "nbformat_minor": 5
}
